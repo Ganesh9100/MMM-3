{
  "nbformat": 4,
  "nbformat_minor": 0,
  "metadata": {
    "colab": {
      "name": "MMM-3.ipynb",
      "provenance": [],
      "authorship_tag": "ABX9TyOoh9rAKP0PpBnmG5v6OdjA",
      "include_colab_link": true
    },
    "kernelspec": {
      "name": "python3",
      "display_name": "Python 3"
    },
    "language_info": {
      "name": "python"
    }
  },
  "cells": [
    {
      "cell_type": "markdown",
      "metadata": {
        "id": "view-in-github",
        "colab_type": "text"
      },
      "source": [
        "<a href=\"https://colab.research.google.com/github/Ganesh9100/MMM-3/blob/main/MMM_3.ipynb\" target=\"_parent\"><img src=\"https://colab.research.google.com/assets/colab-badge.svg\" alt=\"Open In Colab\"/></a>"
      ]
    },
    {
      "cell_type": "code",
      "metadata": {
        "id": "_iEZJXeItwN-"
      },
      "source": [
        ""
      ],
      "execution_count": null,
      "outputs": []
    },
    {
      "cell_type": "code",
      "metadata": {
        "id": "j2Ogjg9Pt2MK"
      },
      "source": [
        "import warnings\n",
        "warnings.filterwarnings(\"ignore\")\n",
        "\n",
        "import numpy as np\n",
        "import pandas as pd\n",
        "import sys\n",
        "import time\n",
        "from datetime import datetime\n",
        "from datetime import timedelta\n",
        "import matplotlib.pyplot as plt\n",
        "import seaborn as sns\n",
        "# get_ipython().run_line_magic('matplotlib', 'inline')\n",
        "\n",
        "sns.color_palette(\"husl\")\n",
        "sns.set_style('darkgrid')"
      ],
      "execution_count": 1,
      "outputs": []
    },
    {
      "cell_type": "code",
      "metadata": {
        "colab": {
          "base_uri": "https://localhost:8080/"
        },
        "id": "aZhqNGNMt2jm",
        "outputId": "72980317-8983-41e1-94c0-11c81f3516b2"
      },
      "source": [
        "!git clone https://github.com/Ganesh9100/MMM-3.git"
      ],
      "execution_count": 2,
      "outputs": [
        {
          "output_type": "stream",
          "text": [
            "Cloning into 'MMM-3'...\n",
            "remote: Enumerating objects: 7, done.\u001b[K\n",
            "remote: Counting objects: 100% (7/7), done.\u001b[K\n",
            "remote: Compressing objects: 100% (6/6), done.\u001b[K\n",
            "remote: Total 7 (delta 0), reused 0 (delta 0), pack-reused 0\u001b[K\n",
            "Unpacking objects: 100% (7/7), done.\n"
          ],
          "name": "stdout"
        }
      ]
    },
    {
      "cell_type": "code",
      "metadata": {
        "id": "DlYDXO_GxCbc"
      },
      "source": [
        "data = pd.read_csv('/content/MMM-3/Advertising.csv')"
      ],
      "execution_count": 3,
      "outputs": []
    },
    {
      "cell_type": "code",
      "metadata": {
        "colab": {
          "base_uri": "https://localhost:8080/"
        },
        "id": "rtdS_qsxxKfx",
        "outputId": "64b109a9-a92d-40b7-b46c-2e92d8e0324d"
      },
      "source": [
        "data.shape"
      ],
      "execution_count": 4,
      "outputs": [
        {
          "output_type": "execute_result",
          "data": {
            "text/plain": [
              "(200, 5)"
            ]
          },
          "metadata": {
            "tags": []
          },
          "execution_count": 4
        }
      ]
    },
    {
      "cell_type": "code",
      "metadata": {
        "colab": {
          "base_uri": "https://localhost:8080/",
          "height": 204
        },
        "id": "jhwDdXUQxLW6",
        "outputId": "2a35034e-a69c-4018-acf8-93b0987c4baa"
      },
      "source": [
        "data.head()"
      ],
      "execution_count": 5,
      "outputs": [
        {
          "output_type": "execute_result",
          "data": {
            "text/html": [
              "<div>\n",
              "<style scoped>\n",
              "    .dataframe tbody tr th:only-of-type {\n",
              "        vertical-align: middle;\n",
              "    }\n",
              "\n",
              "    .dataframe tbody tr th {\n",
              "        vertical-align: top;\n",
              "    }\n",
              "\n",
              "    .dataframe thead th {\n",
              "        text-align: right;\n",
              "    }\n",
              "</style>\n",
              "<table border=\"1\" class=\"dataframe\">\n",
              "  <thead>\n",
              "    <tr style=\"text-align: right;\">\n",
              "      <th></th>\n",
              "      <th>Week</th>\n",
              "      <th>TV</th>\n",
              "      <th>radio</th>\n",
              "      <th>newspaper</th>\n",
              "      <th>sales</th>\n",
              "    </tr>\n",
              "  </thead>\n",
              "  <tbody>\n",
              "    <tr>\n",
              "      <th>0</th>\n",
              "      <td>1</td>\n",
              "      <td>230.1</td>\n",
              "      <td>37.8</td>\n",
              "      <td>69.2</td>\n",
              "      <td>22.1</td>\n",
              "    </tr>\n",
              "    <tr>\n",
              "      <th>1</th>\n",
              "      <td>2</td>\n",
              "      <td>44.5</td>\n",
              "      <td>39.3</td>\n",
              "      <td>45.1</td>\n",
              "      <td>10.4</td>\n",
              "    </tr>\n",
              "    <tr>\n",
              "      <th>2</th>\n",
              "      <td>3</td>\n",
              "      <td>17.2</td>\n",
              "      <td>45.9</td>\n",
              "      <td>69.3</td>\n",
              "      <td>9.3</td>\n",
              "    </tr>\n",
              "    <tr>\n",
              "      <th>3</th>\n",
              "      <td>4</td>\n",
              "      <td>151.5</td>\n",
              "      <td>41.3</td>\n",
              "      <td>58.5</td>\n",
              "      <td>18.5</td>\n",
              "    </tr>\n",
              "    <tr>\n",
              "      <th>4</th>\n",
              "      <td>5</td>\n",
              "      <td>180.8</td>\n",
              "      <td>10.8</td>\n",
              "      <td>58.4</td>\n",
              "      <td>12.9</td>\n",
              "    </tr>\n",
              "  </tbody>\n",
              "</table>\n",
              "</div>"
            ],
            "text/plain": [
              "   Week     TV  radio  newspaper  sales\n",
              "0     1  230.1   37.8       69.2   22.1\n",
              "1     2   44.5   39.3       45.1   10.4\n",
              "2     3   17.2   45.9       69.3    9.3\n",
              "3     4  151.5   41.3       58.5   18.5\n",
              "4     5  180.8   10.8       58.4   12.9"
            ]
          },
          "metadata": {
            "tags": []
          },
          "execution_count": 5
        }
      ]
    },
    {
      "cell_type": "code",
      "metadata": {
        "colab": {
          "base_uri": "https://localhost:8080/"
        },
        "id": "kcVb1MQ5xNMB",
        "outputId": "46cd1e6b-deae-4f7b-b219-8c94e2f533d6"
      },
      "source": [
        "data.isnull().sum()"
      ],
      "execution_count": 6,
      "outputs": [
        {
          "output_type": "execute_result",
          "data": {
            "text/plain": [
              "Week         0\n",
              "TV           0\n",
              "radio        0\n",
              "newspaper    0\n",
              "sales        0\n",
              "dtype: int64"
            ]
          },
          "metadata": {
            "tags": []
          },
          "execution_count": 6
        }
      ]
    },
    {
      "cell_type": "code",
      "metadata": {
        "colab": {
          "base_uri": "https://localhost:8080/"
        },
        "id": "FWd914dixQLv",
        "outputId": "c9795023-5ba0-4228-8485-a0aa7c4472b0"
      },
      "source": [
        "data['Week'].values"
      ],
      "execution_count": 9,
      "outputs": [
        {
          "output_type": "execute_result",
          "data": {
            "text/plain": [
              "array([  1,   2,   3,   4,   5,   6,   7,   8,   9,  10,  11,  12,  13,\n",
              "        14,  15,  16,  17,  18,  19,  20,  21,  22,  23,  24,  25,  26,\n",
              "        27,  28,  29,  30,  31,  32,  33,  34,  35,  36,  37,  38,  39,\n",
              "        40,  41,  42,  43,  44,  45,  46,  47,  48,  49,  50,  51,  52,\n",
              "        53,  54,  55,  56,  57,  58,  59,  60,  61,  62,  63,  64,  65,\n",
              "        66,  67,  68,  69,  70,  71,  72,  73,  74,  75,  76,  77,  78,\n",
              "        79,  80,  81,  82,  83,  84,  85,  86,  87,  88,  89,  90,  91,\n",
              "        92,  93,  94,  95,  96,  97,  98,  99, 100, 101, 102, 103, 104,\n",
              "       105, 106, 107, 108, 109, 110, 111, 112, 113, 114, 115, 116, 117,\n",
              "       118, 119, 120, 121, 122, 123, 124, 125, 126, 127, 128, 129, 130,\n",
              "       131, 132, 133, 134, 135, 136, 137, 138, 139, 140, 141, 142, 143,\n",
              "       144, 145, 146, 147, 148, 149, 150, 151, 152, 153, 154, 155, 156,\n",
              "       157, 158, 159, 160, 161, 162, 163, 164, 165, 166, 167, 168, 169,\n",
              "       170, 171, 172, 173, 174, 175, 176, 177, 178, 179, 180, 181, 182,\n",
              "       183, 184, 185, 186, 187, 188, 189, 190, 191, 192, 193, 194, 195,\n",
              "       196, 197, 198, 199, 200])"
            ]
          },
          "metadata": {
            "tags": []
          },
          "execution_count": 9
        }
      ]
    },
    {
      "cell_type": "code",
      "metadata": {
        "id": "-DZiwC4exbcL"
      },
      "source": [
        "from datetime import date\n",
        "days = pd.date_range(start ='1-1-2020', periods = 200)"
      ],
      "execution_count": 20,
      "outputs": []
    },
    {
      "cell_type": "code",
      "metadata": {
        "colab": {
          "base_uri": "https://localhost:8080/"
        },
        "id": "aiLVVHsuxyaz",
        "outputId": "42e9923b-81c8-45b8-c495-5b9d165a0547"
      },
      "source": [
        "len(days)"
      ],
      "execution_count": 21,
      "outputs": [
        {
          "output_type": "execute_result",
          "data": {
            "text/plain": [
              "200"
            ]
          },
          "metadata": {
            "tags": []
          },
          "execution_count": 21
        }
      ]
    },
    {
      "cell_type": "code",
      "metadata": {
        "id": "wrrtcURLybEc"
      },
      "source": [
        "data['Week'] = days\n"
      ],
      "execution_count": 22,
      "outputs": []
    },
    {
      "cell_type": "code",
      "metadata": {
        "colab": {
          "base_uri": "https://localhost:8080/",
          "height": 204
        },
        "id": "4N29y_r7zfK6",
        "outputId": "86bb75db-2203-4e67-de1c-13699d09058d"
      },
      "source": [
        "data.head()"
      ],
      "execution_count": 23,
      "outputs": [
        {
          "output_type": "execute_result",
          "data": {
            "text/html": [
              "<div>\n",
              "<style scoped>\n",
              "    .dataframe tbody tr th:only-of-type {\n",
              "        vertical-align: middle;\n",
              "    }\n",
              "\n",
              "    .dataframe tbody tr th {\n",
              "        vertical-align: top;\n",
              "    }\n",
              "\n",
              "    .dataframe thead th {\n",
              "        text-align: right;\n",
              "    }\n",
              "</style>\n",
              "<table border=\"1\" class=\"dataframe\">\n",
              "  <thead>\n",
              "    <tr style=\"text-align: right;\">\n",
              "      <th></th>\n",
              "      <th>Week</th>\n",
              "      <th>TV</th>\n",
              "      <th>radio</th>\n",
              "      <th>newspaper</th>\n",
              "      <th>sales</th>\n",
              "    </tr>\n",
              "  </thead>\n",
              "  <tbody>\n",
              "    <tr>\n",
              "      <th>0</th>\n",
              "      <td>2020-01-01</td>\n",
              "      <td>230.1</td>\n",
              "      <td>37.8</td>\n",
              "      <td>69.2</td>\n",
              "      <td>22.1</td>\n",
              "    </tr>\n",
              "    <tr>\n",
              "      <th>1</th>\n",
              "      <td>2020-01-02</td>\n",
              "      <td>44.5</td>\n",
              "      <td>39.3</td>\n",
              "      <td>45.1</td>\n",
              "      <td>10.4</td>\n",
              "    </tr>\n",
              "    <tr>\n",
              "      <th>2</th>\n",
              "      <td>2020-01-03</td>\n",
              "      <td>17.2</td>\n",
              "      <td>45.9</td>\n",
              "      <td>69.3</td>\n",
              "      <td>9.3</td>\n",
              "    </tr>\n",
              "    <tr>\n",
              "      <th>3</th>\n",
              "      <td>2020-01-04</td>\n",
              "      <td>151.5</td>\n",
              "      <td>41.3</td>\n",
              "      <td>58.5</td>\n",
              "      <td>18.5</td>\n",
              "    </tr>\n",
              "    <tr>\n",
              "      <th>4</th>\n",
              "      <td>2020-01-05</td>\n",
              "      <td>180.8</td>\n",
              "      <td>10.8</td>\n",
              "      <td>58.4</td>\n",
              "      <td>12.9</td>\n",
              "    </tr>\n",
              "  </tbody>\n",
              "</table>\n",
              "</div>"
            ],
            "text/plain": [
              "        Week     TV  radio  newspaper  sales\n",
              "0 2020-01-01  230.1   37.8       69.2   22.1\n",
              "1 2020-01-02   44.5   39.3       45.1   10.4\n",
              "2 2020-01-03   17.2   45.9       69.3    9.3\n",
              "3 2020-01-04  151.5   41.3       58.5   18.5\n",
              "4 2020-01-05  180.8   10.8       58.4   12.9"
            ]
          },
          "metadata": {
            "tags": []
          },
          "execution_count": 23
        }
      ]
    },
    {
      "cell_type": "code",
      "metadata": {
        "colab": {
          "base_uri": "https://localhost:8080/",
          "height": 204
        },
        "id": "JWi1lQYszgNe",
        "outputId": "4d50dee0-ba87-412d-9b17-c5b0cbf405d5"
      },
      "source": [
        "data.tail()"
      ],
      "execution_count": 24,
      "outputs": [
        {
          "output_type": "execute_result",
          "data": {
            "text/html": [
              "<div>\n",
              "<style scoped>\n",
              "    .dataframe tbody tr th:only-of-type {\n",
              "        vertical-align: middle;\n",
              "    }\n",
              "\n",
              "    .dataframe tbody tr th {\n",
              "        vertical-align: top;\n",
              "    }\n",
              "\n",
              "    .dataframe thead th {\n",
              "        text-align: right;\n",
              "    }\n",
              "</style>\n",
              "<table border=\"1\" class=\"dataframe\">\n",
              "  <thead>\n",
              "    <tr style=\"text-align: right;\">\n",
              "      <th></th>\n",
              "      <th>Week</th>\n",
              "      <th>TV</th>\n",
              "      <th>radio</th>\n",
              "      <th>newspaper</th>\n",
              "      <th>sales</th>\n",
              "    </tr>\n",
              "  </thead>\n",
              "  <tbody>\n",
              "    <tr>\n",
              "      <th>195</th>\n",
              "      <td>2020-07-14</td>\n",
              "      <td>38.2</td>\n",
              "      <td>3.7</td>\n",
              "      <td>13.8</td>\n",
              "      <td>7.6</td>\n",
              "    </tr>\n",
              "    <tr>\n",
              "      <th>196</th>\n",
              "      <td>2020-07-15</td>\n",
              "      <td>94.2</td>\n",
              "      <td>4.9</td>\n",
              "      <td>8.1</td>\n",
              "      <td>9.7</td>\n",
              "    </tr>\n",
              "    <tr>\n",
              "      <th>197</th>\n",
              "      <td>2020-07-16</td>\n",
              "      <td>177.0</td>\n",
              "      <td>9.3</td>\n",
              "      <td>6.4</td>\n",
              "      <td>12.8</td>\n",
              "    </tr>\n",
              "    <tr>\n",
              "      <th>198</th>\n",
              "      <td>2020-07-17</td>\n",
              "      <td>283.6</td>\n",
              "      <td>42.0</td>\n",
              "      <td>66.2</td>\n",
              "      <td>25.5</td>\n",
              "    </tr>\n",
              "    <tr>\n",
              "      <th>199</th>\n",
              "      <td>2020-07-18</td>\n",
              "      <td>232.1</td>\n",
              "      <td>8.6</td>\n",
              "      <td>8.7</td>\n",
              "      <td>13.4</td>\n",
              "    </tr>\n",
              "  </tbody>\n",
              "</table>\n",
              "</div>"
            ],
            "text/plain": [
              "          Week     TV  radio  newspaper  sales\n",
              "195 2020-07-14   38.2    3.7       13.8    7.6\n",
              "196 2020-07-15   94.2    4.9        8.1    9.7\n",
              "197 2020-07-16  177.0    9.3        6.4   12.8\n",
              "198 2020-07-17  283.6   42.0       66.2   25.5\n",
              "199 2020-07-18  232.1    8.6        8.7   13.4"
            ]
          },
          "metadata": {
            "tags": []
          },
          "execution_count": 24
        }
      ]
    },
    {
      "cell_type": "code",
      "metadata": {
        "colab": {
          "base_uri": "https://localhost:8080/"
        },
        "id": "FMuLhFdTziwT",
        "outputId": "56c60135-916d-49ff-ca51-e62f30dc1722"
      },
      "source": [
        "type(data['Week'])"
      ],
      "execution_count": 25,
      "outputs": [
        {
          "output_type": "execute_result",
          "data": {
            "text/plain": [
              "pandas.core.series.Series"
            ]
          },
          "metadata": {
            "tags": []
          },
          "execution_count": 25
        }
      ]
    },
    {
      "cell_type": "code",
      "metadata": {
        "id": "ouwn2FHCzl3E"
      },
      "source": [
        "data['Date_col'] = pd.to_datetime(data.Week)"
      ],
      "execution_count": 27,
      "outputs": []
    },
    {
      "cell_type": "code",
      "metadata": {
        "colab": {
          "base_uri": "https://localhost:8080/",
          "height": 204
        },
        "id": "29KTSM_EztUV",
        "outputId": "579e2af0-70a3-4f0b-ce78-d15046dd8ee5"
      },
      "source": [
        "data.head()"
      ],
      "execution_count": 28,
      "outputs": [
        {
          "output_type": "execute_result",
          "data": {
            "text/html": [
              "<div>\n",
              "<style scoped>\n",
              "    .dataframe tbody tr th:only-of-type {\n",
              "        vertical-align: middle;\n",
              "    }\n",
              "\n",
              "    .dataframe tbody tr th {\n",
              "        vertical-align: top;\n",
              "    }\n",
              "\n",
              "    .dataframe thead th {\n",
              "        text-align: right;\n",
              "    }\n",
              "</style>\n",
              "<table border=\"1\" class=\"dataframe\">\n",
              "  <thead>\n",
              "    <tr style=\"text-align: right;\">\n",
              "      <th></th>\n",
              "      <th>Week</th>\n",
              "      <th>TV</th>\n",
              "      <th>radio</th>\n",
              "      <th>newspaper</th>\n",
              "      <th>sales</th>\n",
              "      <th>Date_col</th>\n",
              "    </tr>\n",
              "  </thead>\n",
              "  <tbody>\n",
              "    <tr>\n",
              "      <th>0</th>\n",
              "      <td>2020-01-01</td>\n",
              "      <td>230.1</td>\n",
              "      <td>37.8</td>\n",
              "      <td>69.2</td>\n",
              "      <td>22.1</td>\n",
              "      <td>2020-01-01</td>\n",
              "    </tr>\n",
              "    <tr>\n",
              "      <th>1</th>\n",
              "      <td>2020-01-02</td>\n",
              "      <td>44.5</td>\n",
              "      <td>39.3</td>\n",
              "      <td>45.1</td>\n",
              "      <td>10.4</td>\n",
              "      <td>2020-01-02</td>\n",
              "    </tr>\n",
              "    <tr>\n",
              "      <th>2</th>\n",
              "      <td>2020-01-03</td>\n",
              "      <td>17.2</td>\n",
              "      <td>45.9</td>\n",
              "      <td>69.3</td>\n",
              "      <td>9.3</td>\n",
              "      <td>2020-01-03</td>\n",
              "    </tr>\n",
              "    <tr>\n",
              "      <th>3</th>\n",
              "      <td>2020-01-04</td>\n",
              "      <td>151.5</td>\n",
              "      <td>41.3</td>\n",
              "      <td>58.5</td>\n",
              "      <td>18.5</td>\n",
              "      <td>2020-01-04</td>\n",
              "    </tr>\n",
              "    <tr>\n",
              "      <th>4</th>\n",
              "      <td>2020-01-05</td>\n",
              "      <td>180.8</td>\n",
              "      <td>10.8</td>\n",
              "      <td>58.4</td>\n",
              "      <td>12.9</td>\n",
              "      <td>2020-01-05</td>\n",
              "    </tr>\n",
              "  </tbody>\n",
              "</table>\n",
              "</div>"
            ],
            "text/plain": [
              "        Week     TV  radio  newspaper  sales   Date_col\n",
              "0 2020-01-01  230.1   37.8       69.2   22.1 2020-01-01\n",
              "1 2020-01-02   44.5   39.3       45.1   10.4 2020-01-02\n",
              "2 2020-01-03   17.2   45.9       69.3    9.3 2020-01-03\n",
              "3 2020-01-04  151.5   41.3       58.5   18.5 2020-01-04\n",
              "4 2020-01-05  180.8   10.8       58.4   12.9 2020-01-05"
            ]
          },
          "metadata": {
            "tags": []
          },
          "execution_count": 28
        }
      ]
    },
    {
      "cell_type": "code",
      "metadata": {
        "id": "4ndNHum5z8cD"
      },
      "source": [
        "data.drop(['Week'],axis=1,inplace=True)"
      ],
      "execution_count": 29,
      "outputs": []
    },
    {
      "cell_type": "code",
      "metadata": {
        "colab": {
          "base_uri": "https://localhost:8080/",
          "height": 204
        },
        "id": "RbNOMmh-0HME",
        "outputId": "f23c6d92-e5ad-48f8-a682-a5e741fcb84a"
      },
      "source": [
        "data.head()"
      ],
      "execution_count": 30,
      "outputs": [
        {
          "output_type": "execute_result",
          "data": {
            "text/html": [
              "<div>\n",
              "<style scoped>\n",
              "    .dataframe tbody tr th:only-of-type {\n",
              "        vertical-align: middle;\n",
              "    }\n",
              "\n",
              "    .dataframe tbody tr th {\n",
              "        vertical-align: top;\n",
              "    }\n",
              "\n",
              "    .dataframe thead th {\n",
              "        text-align: right;\n",
              "    }\n",
              "</style>\n",
              "<table border=\"1\" class=\"dataframe\">\n",
              "  <thead>\n",
              "    <tr style=\"text-align: right;\">\n",
              "      <th></th>\n",
              "      <th>TV</th>\n",
              "      <th>radio</th>\n",
              "      <th>newspaper</th>\n",
              "      <th>sales</th>\n",
              "      <th>Date_col</th>\n",
              "    </tr>\n",
              "  </thead>\n",
              "  <tbody>\n",
              "    <tr>\n",
              "      <th>0</th>\n",
              "      <td>230.1</td>\n",
              "      <td>37.8</td>\n",
              "      <td>69.2</td>\n",
              "      <td>22.1</td>\n",
              "      <td>2020-01-01</td>\n",
              "    </tr>\n",
              "    <tr>\n",
              "      <th>1</th>\n",
              "      <td>44.5</td>\n",
              "      <td>39.3</td>\n",
              "      <td>45.1</td>\n",
              "      <td>10.4</td>\n",
              "      <td>2020-01-02</td>\n",
              "    </tr>\n",
              "    <tr>\n",
              "      <th>2</th>\n",
              "      <td>17.2</td>\n",
              "      <td>45.9</td>\n",
              "      <td>69.3</td>\n",
              "      <td>9.3</td>\n",
              "      <td>2020-01-03</td>\n",
              "    </tr>\n",
              "    <tr>\n",
              "      <th>3</th>\n",
              "      <td>151.5</td>\n",
              "      <td>41.3</td>\n",
              "      <td>58.5</td>\n",
              "      <td>18.5</td>\n",
              "      <td>2020-01-04</td>\n",
              "    </tr>\n",
              "    <tr>\n",
              "      <th>4</th>\n",
              "      <td>180.8</td>\n",
              "      <td>10.8</td>\n",
              "      <td>58.4</td>\n",
              "      <td>12.9</td>\n",
              "      <td>2020-01-05</td>\n",
              "    </tr>\n",
              "  </tbody>\n",
              "</table>\n",
              "</div>"
            ],
            "text/plain": [
              "      TV  radio  newspaper  sales   Date_col\n",
              "0  230.1   37.8       69.2   22.1 2020-01-01\n",
              "1   44.5   39.3       45.1   10.4 2020-01-02\n",
              "2   17.2   45.9       69.3    9.3 2020-01-03\n",
              "3  151.5   41.3       58.5   18.5 2020-01-04\n",
              "4  180.8   10.8       58.4   12.9 2020-01-05"
            ]
          },
          "metadata": {
            "tags": []
          },
          "execution_count": 30
        }
      ]
    },
    {
      "cell_type": "code",
      "metadata": {
        "colab": {
          "base_uri": "https://localhost:8080/"
        },
        "id": "wsXRi8CD0IQN",
        "outputId": "3ac2d8e5-f9c9-4cdb-873e-29805921f88a"
      },
      "source": [
        "type(data['Date_col'])"
      ],
      "execution_count": 31,
      "outputs": [
        {
          "output_type": "execute_result",
          "data": {
            "text/plain": [
              "pandas.core.series.Series"
            ]
          },
          "metadata": {
            "tags": []
          },
          "execution_count": 31
        }
      ]
    },
    {
      "cell_type": "code",
      "metadata": {
        "id": "BxQbGYkW0K_e"
      },
      "source": [
        "data['Date_col'] = pd.to_datetime(data.Date_col)"
      ],
      "execution_count": 32,
      "outputs": []
    },
    {
      "cell_type": "code",
      "metadata": {
        "colab": {
          "base_uri": "https://localhost:8080/"
        },
        "id": "4d0A36Rq0Sif",
        "outputId": "a66bbb68-577e-42ec-b527-9c3781cf386e"
      },
      "source": [
        "type(data['Date_col'])"
      ],
      "execution_count": 33,
      "outputs": [
        {
          "output_type": "execute_result",
          "data": {
            "text/plain": [
              "pandas.core.series.Series"
            ]
          },
          "metadata": {
            "tags": []
          },
          "execution_count": 33
        }
      ]
    },
    {
      "cell_type": "code",
      "metadata": {
        "colab": {
          "base_uri": "https://localhost:8080/"
        },
        "id": "RktH8t3U0ThT",
        "outputId": "646db5a8-5a23-48f5-f978-90a9c4b6d549"
      },
      "source": [
        "data.dtypes"
      ],
      "execution_count": 34,
      "outputs": [
        {
          "output_type": "execute_result",
          "data": {
            "text/plain": [
              "TV                  float64\n",
              "radio               float64\n",
              "newspaper           float64\n",
              "sales               float64\n",
              "Date_col     datetime64[ns]\n",
              "dtype: object"
            ]
          },
          "metadata": {
            "tags": []
          },
          "execution_count": 34
        }
      ]
    },
    {
      "cell_type": "code",
      "metadata": {
        "colab": {
          "base_uri": "https://localhost:8080/"
        },
        "id": "3pilaayY4I5B",
        "outputId": "5e64c32c-369a-42bf-9f2d-9e3ea2e6294f"
      },
      "source": [
        "data.columns"
      ],
      "execution_count": 37,
      "outputs": [
        {
          "output_type": "execute_result",
          "data": {
            "text/plain": [
              "Index(['TV', 'radio', 'newspaper', 'sales', 'Date_col'], dtype='object')"
            ]
          },
          "metadata": {
            "tags": []
          },
          "execution_count": 37
        }
      ]
    },
    {
      "cell_type": "code",
      "metadata": {
        "id": "wY5RpGkj345O"
      },
      "source": [
        "# 1. media variables\n",
        "# media impression\n",
        "mdip_cols=['TV', 'radio', 'newspaper']\n",
        "\n",
        "\n",
        "# 3. sales variables\n",
        "sales_cols =['sales']"
      ],
      "execution_count": 41,
      "outputs": []
    },
    {
      "cell_type": "code",
      "metadata": {
        "colab": {
          "base_uri": "https://localhost:8080/"
        },
        "id": "omvoEb2q8w65",
        "outputId": "fcdfcc61-bfa2-4c24-e96a-3c0d95824e44"
      },
      "source": [
        "mdip_cols"
      ],
      "execution_count": 42,
      "outputs": [
        {
          "output_type": "execute_result",
          "data": {
            "text/plain": [
              "['TV', 'radio', 'newspaper']"
            ]
          },
          "metadata": {
            "tags": []
          },
          "execution_count": 42
        }
      ]
    },
    {
      "cell_type": "code",
      "metadata": {
        "id": "4jNnHEOe0khd"
      },
      "source": [
        "def apply_adstock(x, L, P, D):\n",
        "    '''\n",
        "    params:\n",
        "    x: original media variable, array\n",
        "    L: length\n",
        "    P: peak, delay in effect\n",
        "    D: decay, retain rate\n",
        "    returns:\n",
        "    array, adstocked media variable\n",
        "    '''\n",
        "    x = np.append(np.zeros(L-1), x)\n",
        "    \n",
        "    weights = np.zeros(L)\n",
        "    for l in range(L):\n",
        "        weight = D**((l-P)**2)\n",
        "        weights[L-1-l] = weight\n",
        "    \n",
        "    adstocked_x = []\n",
        "    for i in range(L-1, len(x)):\n",
        "        x_array = x[i-L+1:i+1]\n",
        "        xi = sum(x_array * weights)/sum(weights)\n",
        "        adstocked_x.append(xi)\n",
        "    adstocked_x = np.array(adstocked_x)\n",
        "    return adstocked_x\n",
        "\n",
        "def adstock_transform(df, md_cols, adstock_params):\n",
        "    '''\n",
        "    params:\n",
        "    df: original data\n",
        "    md_cols: list, media variables to be transformed\n",
        "    adstock_params: dict, \n",
        "        e.g., {'sem': {'L': 8, 'P': 0, 'D': 0.1}, 'dm': {'L': 4, 'P': 1, 'D': 0.7}}\n",
        "    returns: \n",
        "    adstocked df\n",
        "    '''\n",
        "    md_df = pd.DataFrame()\n",
        "    for md_col in md_cols:\n",
        "        md = md_col.split('_')[-1]\n",
        "        L, P, D = adstock_params[md]['L'], adstock_params[md]['P'], adstock_params[md]['D']\n",
        "        xa = apply_adstock(df[md_col].values, L, P, D)\n",
        "        md_df[md_col] = xa\n",
        "    return md_df\n",
        "\n",
        "\n",
        "\n",
        "# 1.2 Diminishing Return\n",
        "def hill_transform(x, ec, slope):\n",
        "    return 1 / (1 + (x / ec)**(-slope))\n"
      ],
      "execution_count": 43,
      "outputs": []
    },
    {
      "cell_type": "code",
      "metadata": {
        "id": "gOXf7r0e3zwT"
      },
      "source": [
        "# - Marketing Mix Model\n",
        "# - Diminishing Return Model    \n",
        "\n",
        "# 2.1 Control Model / Base Sales Model\n",
        "import pystan\n",
        "import os\n",
        "#os.environ['CC'] = 'gcc-10'\n",
        "#os.environ['CXX'] = 'g++-10'\n",
        "\n",
        "# helper functions\n",
        "from sklearn.metrics import mean_squared_error\n",
        "def mean_absolute_percentage_error(y_true, y_pred): \n",
        "    y_true, y_pred = np.array(y_true), np.array(y_pred)\n",
        "    return np.mean(np.abs((y_true - y_pred) / y_true)) * 100\n",
        "\n",
        "def apply_mean_center(x):\n",
        "    mu = np.mean(x)\n",
        "    xm = x/mu\n",
        "    return xm, mu\n",
        "\n",
        "def mean_center_trandform(df, cols):\n",
        "    '''\n",
        "    returns: \n",
        "    mean-centered df\n",
        "    scaler, dict\n",
        "    '''\n",
        "    df_new = pd.DataFrame()\n",
        "    sc = {}\n",
        "    for col in cols:\n",
        "        x = df[col].values\n",
        "        df_new[col], mu = apply_mean_center(x)\n",
        "        sc[col] = mu\n",
        "    return df_new, sc\n",
        "\n",
        "def mean_log1p_trandform(df, cols):\n",
        "    '''\n",
        "    returns: \n",
        "    mean-centered, log1p transformed df\n",
        "    scaler, dict\n",
        "    '''\n",
        "    df_new = pd.DataFrame()\n",
        "    sc = {}\n",
        "    for col in cols:\n",
        "        x = df[col].values\n",
        "        xm, mu = apply_mean_center(x)\n",
        "        sc[col] = mu\n",
        "        df_new[col] = np.log1p(xm)\n",
        "    return df_new, sc"
      ],
      "execution_count": 44,
      "outputs": []
    },
    {
      "cell_type": "code",
      "metadata": {
        "id": "JUHGD6mk3Wjj"
      },
      "source": [
        "df_mmm, sc_mmm = mean_log1p_trandform(data, ['sales', 'sales'])\n",
        "mu_mdip = data[mdip_cols].apply(np.mean, axis=0).values\n",
        "max_lag = 8\n",
        "num_media = len(mdip_cols)\n",
        "# padding zero * (max_lag-1) rows\n",
        "X_media = np.concatenate((np.zeros((max_lag-1, num_media)), data[mdip_cols].values), axis=0)\n",
        "X_ctrl = df_mmm['sales'].values.reshape(len(data),1)\n",
        "model_data2 = {\n",
        "    'N': len(data),\n",
        "    'max_lag': max_lag, \n",
        "    'num_media': num_media,\n",
        "    'X_media': X_media, \n",
        "    'mu_mdip': mu_mdip,\n",
        "    'num_ctrl': X_ctrl.shape[1],\n",
        "    'X_ctrl': X_ctrl, \n",
        "    'y': df_mmm['sales'].values\n",
        "}\n",
        "\n",
        "model_code2 = '''\n",
        "functions {\n",
        "  // the adstock transformation with a vector of weights\n",
        "  real Adstock(vector t, row_vector weights) {\n",
        "    return dot_product(t, weights) / sum(weights);\n",
        "  }\n",
        "}\n",
        "data {\n",
        "  // the total number of observations\n",
        "  int<lower=1> N;\n",
        "  // the vector of sales\n",
        "  real y[N];\n",
        "  // the maximum duration of lag effect, in weeks\n",
        "  int<lower=1> max_lag;\n",
        "  // the number of media channels\n",
        "  int<lower=1> num_media;\n",
        "  // matrix of media variables\n",
        "  matrix[N+max_lag-1, num_media] X_media;\n",
        "  // vector of media variables' mean\n",
        "  real mu_mdip[num_media];\n",
        "  // the number of other control variables\n",
        "  int<lower=1> num_ctrl;\n",
        "  // a matrix of control variables\n",
        "  matrix[N, num_ctrl] X_ctrl;\n",
        "}\n",
        "parameters {\n",
        "  // residual variance\n",
        "  real<lower=0> noise_var;\n",
        "  // the intercept\n",
        "  real tau;\n",
        "  // the coefficients for media variables and base sales\n",
        "  vector<lower=0>[num_media+num_ctrl] beta;\n",
        "  // the decay and peak parameter for the adstock transformation of\n",
        "  // each media\n",
        "  vector<lower=0,upper=1>[num_media] decay;\n",
        "  vector<lower=0,upper=ceil(max_lag/2)>[num_media] peak;\n",
        "}\n",
        "transformed parameters {\n",
        "  // the cumulative media effect after adstock\n",
        "  real cum_effect;\n",
        "  // matrix of media variables after adstock\n",
        "  matrix[N, num_media] X_media_adstocked;\n",
        "  // matrix of all predictors\n",
        "  matrix[N, num_media+num_ctrl] X;\n",
        "  \n",
        "  // adstock, mean-center, log1p transformation\n",
        "  row_vector[max_lag] lag_weights;\n",
        "  for (nn in 1:N) {\n",
        "    for (media in 1 : num_media) {\n",
        "      for (lag in 1 : max_lag) {\n",
        "        lag_weights[max_lag-lag+1] <- pow(decay[media], (lag - 1 - peak[media]) ^ 2);\n",
        "      }\n",
        "     cum_effect <- Adstock(sub_col(X_media, nn, media, max_lag), lag_weights);\n",
        "     X_media_adstocked[nn, media] <- log1p(cum_effect/mu_mdip[media]);\n",
        "    }\n",
        "  X <- append_col(X_media_adstocked, X_ctrl);\n",
        "  } \n",
        "}\n",
        "model {\n",
        "  decay ~ beta(3,3);\n",
        "  peak ~ uniform(0, ceil(max_lag/2));\n",
        "  tau ~ normal(0, 5);\n",
        "  for (i in 1 : num_media+num_ctrl) {\n",
        "    beta[i] ~ normal(0, 1);\n",
        "  }\n",
        "  noise_var ~ inv_gamma(0.05, 0.05 * 0.01);\n",
        "  y ~ normal(tau + X * beta, sqrt(noise_var));\n",
        "}\n",
        "'''"
      ],
      "execution_count": 46,
      "outputs": []
    },
    {
      "cell_type": "code",
      "metadata": {
        "colab": {
          "base_uri": "https://localhost:8080/"
        },
        "id": "LNlXPQI29VFF",
        "outputId": "bd0c73bc-7d44-4b74-b8c7-901612624775"
      },
      "source": [
        "sm2 = pystan.StanModel(model_code=model_code2, verbose=True)\n",
        "fit2 = sm2.sampling(data=model_data2, iter=1000, chains=3)\n",
        "fit2_result = fit2.extract()"
      ],
      "execution_count": 47,
      "outputs": [
        {
          "output_type": "stream",
          "text": [
            "INFO:pystan:COMPILING THE C++ CODE FOR MODEL anon_model_c6677ffefdee0513f144508ee1783d0c NOW.\n",
            "INFO:pystan:OS: linux, Python: 3.7.10 (default, May  3 2021, 02:48:31) \n",
            "[GCC 7.5.0], Cython 0.29.23\n"
          ],
          "name": "stderr"
        },
        {
          "output_type": "stream",
          "text": [
            "Compiling /tmp/pystan_goy9w4ks/stanfit4anon_model_c6677ffefdee0513f144508ee1783d0c_3301086321133424515.pyx because it changed.\n",
            "[1/1] Cythonizing /tmp/pystan_goy9w4ks/stanfit4anon_model_c6677ffefdee0513f144508ee1783d0c_3301086321133424515.pyx\n",
            "building 'stanfit4anon_model_c6677ffefdee0513f144508ee1783d0c_3301086321133424515' extension\n",
            "creating /tmp/pystan_goy9w4ks/tmp\n",
            "creating /tmp/pystan_goy9w4ks/tmp/pystan_goy9w4ks\n",
            "x86_64-linux-gnu-gcc -pthread -Wno-unused-result -Wsign-compare -DNDEBUG -g -fwrapv -O2 -Wall -g -fdebug-prefix-map=/build/python3.7-OGiuun/python3.7-3.7.10=. -fstack-protector-strong -Wformat -Werror=format-security -g -fdebug-prefix-map=/build/python3.7-OGiuun/python3.7-3.7.10=. -fstack-protector-strong -Wformat -Werror=format-security -Wdate-time -D_FORTIFY_SOURCE=2 -fPIC -DBOOST_RESULT_OF_USE_TR1 -DBOOST_NO_DECLTYPE -DBOOST_DISABLE_ASSERTS -I/tmp/pystan_goy9w4ks -I/usr/local/lib/python3.7/dist-packages/pystan -I/usr/local/lib/python3.7/dist-packages/pystan/stan/src -I/usr/local/lib/python3.7/dist-packages/pystan/stan/lib/stan_math -I/usr/local/lib/python3.7/dist-packages/pystan/stan/lib/stan_math/lib/eigen_3.3.3 -I/usr/local/lib/python3.7/dist-packages/pystan/stan/lib/stan_math/lib/boost_1.69.0 -I/usr/local/lib/python3.7/dist-packages/pystan/stan/lib/stan_math/lib/sundials_4.1.0/include -I/usr/local/lib/python3.7/dist-packages/numpy/core/include -I/usr/include/python3.7m -c /tmp/pystan_goy9w4ks/stanfit4anon_model_c6677ffefdee0513f144508ee1783d0c_3301086321133424515.cpp -o /tmp/pystan_goy9w4ks/tmp/pystan_goy9w4ks/stanfit4anon_model_c6677ffefdee0513f144508ee1783d0c_3301086321133424515.o -O2 -ftemplate-depth-256 -Wno-unused-function -Wno-uninitialized -std=c++1y\n",
            "x86_64-linux-gnu-g++ -pthread -shared -Wl,-O1 -Wl,-Bsymbolic-functions -Wl,-Bsymbolic-functions -Wl,-z,relro -Wl,-Bsymbolic-functions -Wl,-z,relro -g -fdebug-prefix-map=/build/python3.7-OGiuun/python3.7-3.7.10=. -fstack-protector-strong -Wformat -Werror=format-security -Wdate-time -D_FORTIFY_SOURCE=2 /tmp/pystan_goy9w4ks/tmp/pystan_goy9w4ks/stanfit4anon_model_c6677ffefdee0513f144508ee1783d0c_3301086321133424515.o -o /tmp/pystan_goy9w4ks/stanfit4anon_model_c6677ffefdee0513f144508ee1783d0c_3301086321133424515.cpython-37m-x86_64-linux-gnu.so\n"
          ],
          "name": "stdout"
        },
        {
          "output_type": "stream",
          "text": [
            "WARNING:pystan:Maximum (flat) parameter count (1000) exceeded: skipping diagnostic tests for n_eff and Rhat.\n",
            "To run all diagnostics call pystan.check_hmc_diagnostics(fit)\n"
          ],
          "name": "stderr"
        }
      ]
    },
    {
      "cell_type": "code",
      "metadata": {
        "colab": {
          "base_uri": "https://localhost:8080/",
          "height": 221
        },
        "id": "O7RBq1Rw9aVa",
        "outputId": "64e71552-0262-4f11-899f-a12221910d4a"
      },
      "source": [
        "# extract mmm parameters\n",
        "def extract_mmm(fit_result, max_lag=max_lag, \n",
        "                media_vars=mdip_cols, ctrl_vars=['sales'], \n",
        "                extract_param_list=True):\n",
        "    mmm = {}\n",
        "    \n",
        "    mmm['max_lag'] = max_lag\n",
        "    mmm['media_vars'], mmm['ctrl_vars'] = media_vars, ctrl_vars\n",
        "    mmm['decay'] = decay = fit_result['decay'].mean(axis=0).tolist()\n",
        "    mmm['peak'] = peak = fit_result['peak'].mean(axis=0).tolist()\n",
        "    mmm['beta'] = fit_result['beta'].mean(axis=0).tolist()\n",
        "    mmm['tau'] = fit_result['tau'].mean()\n",
        "    if extract_param_list:\n",
        "        mmm['decay_list'] = fit_result['decay'].tolist()\n",
        "        mmm['peak_list'] = fit_result['peak'].tolist()\n",
        "        mmm['beta_list'] = fit_result['beta'].tolist()\n",
        "        mmm['tau_list'] = fit_result['tau'].tolist()\n",
        "    \n",
        "    adstock_params = {}\n",
        "    # media_names = [col.replace('mdip_', '') for col in media_vars]\n",
        "    media_names = ['TV', 'radio', 'newspaper']\n",
        "    for i in range(len(media_names)):\n",
        "        adstock_params[media_names[i]] = {\n",
        "            'L': max_lag,\n",
        "            'P': peak[i],\n",
        "            'D': decay[i]\n",
        "        }\n",
        "    mmm['adstock_params'] = adstock_params\n",
        "    return mmm\n",
        "\n",
        "mmm = extract_mmm(fit2, max_lag=max_lag, \n",
        "                media_vars=mdip_cols, ctrl_vars=['sales'])\n",
        "# save_json(mmm, 'mmm1.json')\n",
        "\n",
        "\n",
        "# plot media coefficients' distributions\n",
        "# red line: mean, green line: median\n",
        "beta_media = {}\n",
        "for i in range(len(mmm['media_vars'])):\n",
        "    md = mmm['media_vars'][i]\n",
        "    betas = []\n",
        "    for j in range(len(mmm['beta_list'])):\n",
        "        betas.append(mmm['beta_list'][j][i])\n",
        "    beta_media[md] = np.array(betas)\n",
        "\n",
        "f = plt.figure(figsize=(18,15))\n",
        "for i in range(len(mmm['media_vars'])):\n",
        "    ax = f.add_subplot(5,3,i+1)\n",
        "    md = mmm['media_vars'][i]\n",
        "    x = beta_media[md]\n",
        "    mean_x = x.mean()\n",
        "    median_x = np.median(x)\n",
        "    ax = sns.distplot(x)\n",
        "    ax.axvline(mean_x, color='r', linestyle='-')\n",
        "    ax.axvline(median_x, color='g', linestyle='-')\n",
        "    ax.set_title(md)"
      ],
      "execution_count": 48,
      "outputs": [
        {
          "output_type": "stream",
          "text": [
            "INFO:numexpr.utils:NumExpr defaulting to 2 threads.\n"
          ],
          "name": "stderr"
        },
        {
          "output_type": "display_data",
          "data": {
            "image/png": "[encoded data removed]",
            "text/plain": [
              "<Figure size 1296x1080 with 3 Axes>"
            ]
          },
          "metadata": {
            "tags": [],
            "needs_background": "light"
          }
        }
      ]
    },
    {
      "cell_type": "code",
      "metadata": {
        "colab": {
          "base_uri": "https://localhost:8080/"
        },
        "id": "wWPAEed_A-vE",
        "outputId": "d63d016c-c957-422f-9989-6d488b914ae3"
      },
      "source": [
        "def mmm_decompose_contrib(mmm, data, original_sales=data['sales']):\n",
        "    # adstock params\n",
        "    adstock_params = mmm['adstock_params']\n",
        "    # coefficients, intercept\n",
        "    beta, tau = mmm['beta'], mmm['tau']\n",
        "    # variables\n",
        "    media_vars, ctrl_vars = mmm['media_vars'], mmm['ctrl_vars']\n",
        "    num_media, num_ctrl = len(media_vars), len(ctrl_vars)\n",
        "    # X_media2: adstocked, mean-centered media variables + 1\n",
        "    X_media2 = adstock_transform(data, media_vars, adstock_params)\n",
        "    X_media2, sc_mmm2 = mean_center_trandform(X_media2, media_vars)\n",
        "    X_media2 = X_media2 + 1\n",
        "    # X_ctrl2, mean-centered control variables + 1\n",
        "    X_ctrl2, sc_mmm2_1 = mean_center_trandform(data[ctrl_vars], ctrl_vars)\n",
        "    X_ctrl2 = X_ctrl2 + 1\n",
        "    # y_true2, mean-centered sales variable + 1\n",
        "    y_true2, sc_mmm2_2 = mean_center_trandform(data, ['sales'])\n",
        "    y_true2 = y_true2 + 1\n",
        "    sc_mmm2.update(sc_mmm2_1)\n",
        "    sc_mmm2.update(sc_mmm2_2)\n",
        "    # X2 <- media variables + ctrl variable\n",
        "    X2 = pd.concat([X_media2, X_ctrl2], axis=1)\n",
        "\n",
        "    # 1. compute each media/control factor: \n",
        "    # log-log model: log(sales) = log(X[0])*beta[0] + ... + log(X[13])*beta[13] + tau\n",
        "    # multiplicative model: sales = X[0]^beta[0] * ... * X[13]^beta[13] * e^tau\n",
        "    # each factor = X[i]^beta[i]\n",
        "    # intercept = e^tau\n",
        "    factor_df = pd.DataFrame(columns=media_vars+ctrl_vars+['intercept'])\n",
        "    for i in range(num_media):\n",
        "        colname = media_vars[i]\n",
        "        factor_df[colname] = X2[colname] ** beta[i]\n",
        "    for i in range(num_ctrl):\n",
        "        colname = ctrl_vars[i]\n",
        "        factor_df[colname] = X2[colname] ** beta[num_media+i]\n",
        "    factor_df['intercept'] = np.exp(tau)\n",
        "\n",
        "    # 2. calculate the product of all factors -> y_pred\n",
        "    # baseline = intercept * control factor = e^tau * X[13]^beta[13]\n",
        "    y_pred = factor_df.apply(np.prod, axis=1)\n",
        "    factor_df['y_pred'], factor_df['y_true2'] = y_pred, y_true2\n",
        "    factor_df['baseline'] = factor_df[['intercept']+ctrl_vars].apply(np.prod, axis=1)\n",
        "\n",
        "    # 3. calculate each media factor's contribution\n",
        "    # media contribution = total volume – volume upon removal of the media factor\n",
        "    mc_df = pd.DataFrame(columns=media_vars+['baseline'])\n",
        "    for col in media_vars:\n",
        "        mc_df[col] = factor_df['y_true2'] - factor_df['y_true2']/factor_df[col]\n",
        "    mc_df['baseline'] = factor_df['baseline']\n",
        "    mc_df['y_true2'] = factor_df['y_true2']\n",
        "\n",
        "    # 4. scale contribution\n",
        "    # predicted total media contribution: product of all media factors\n",
        "    mc_df['mc_pred'] = mc_df[media_vars].apply(np.sum, axis=1)\n",
        "    # true total media contribution: total volume - baseline\n",
        "    mc_df['mc_true'] = mc_df['y_true2'] - mc_df['baseline']\n",
        "    # predicted total media contribution is slightly different from true total media contribution\n",
        "    # scale each media factor’s contribution by removing the delta volume proportionally\n",
        "    mc_df['mc_delta'] =  mc_df['mc_pred'] - mc_df['mc_true']\n",
        "    for col in media_vars:\n",
        "        mc_df[col] = mc_df[col] - mc_df['mc_delta']*mc_df[col]/mc_df['mc_pred']\n",
        "\n",
        "    # 5. scale mc_df based on original sales\n",
        "    mc_df['sales'] = original_sales\n",
        "    for col in media_vars+['baseline']:\n",
        "        mc_df[col] = mc_df[col]*mc_df['sales']/mc_df['y_true2']\n",
        "    \n",
        "    print('rmse (log-log model): ', \n",
        "         mean_squared_error(np.log(y_true2), np.log(y_pred)) ** (1/2))\n",
        "    print('mape (multiplicative model): ', \n",
        "         mean_absolute_percentage_error(y_true2, y_pred))\n",
        "    return mc_df\n",
        "\n",
        "# calculate media contribution percentage\n",
        "def calc_media_contrib_pct(mc_df, media_vars=mdip_cols, sales_col='sales', period=52):\n",
        "    '''\n",
        "    returns:\n",
        "    mc_pct: percentage over total sales\n",
        "    mc_pct2: percentage over incremental sales (sales contributed by media channels)\n",
        "    '''\n",
        "    mc_pct = {}\n",
        "    mc_pct2 = {}\n",
        "    s = 0\n",
        "    if period is None:\n",
        "        for col in (media_vars+['baseline']):\n",
        "            mc_pct[col] = (mc_df[col]/mc_df[sales_col]).mean()\n",
        "    else:\n",
        "        for col in (media_vars+['baseline']):\n",
        "            mc_pct[col] = (mc_df[col]/mc_df[sales_col])[-period:].mean()\n",
        "    for m in media_vars:\n",
        "        s += mc_pct[m]\n",
        "    for m in media_vars:\n",
        "        mc_pct2[m] = mc_pct[m]/s\n",
        "    return mc_pct, mc_pct2\n",
        "\n",
        "mc_df = mmm_decompose_contrib(mmm, data, original_sales=data['sales'])\n",
        "adstock_params = mmm['adstock_params']\n",
        "mc_pct, mc_pct2 = calc_media_contrib_pct(mc_df, period=52)"
      ],
      "execution_count": 50,
      "outputs": [
        {
          "output_type": "stream",
          "text": [
            "rmse (log-log model):  0.0002580842581576695\n",
            "mape (multiplicative model):  21.466828804995874\n"
          ],
          "name": "stdout"
        }
      ]
    },
    {
      "cell_type": "code",
      "metadata": {
        "colab": {
          "base_uri": "https://localhost:8080/"
        },
        "id": "_6iQZ8xuB82c",
        "outputId": "f54689d2-cce9-403c-d6a7-f1e6c9267adc"
      },
      "source": [
        "mc_pct2 # media contribution "
      ],
      "execution_count": 51,
      "outputs": [
        {
          "output_type": "execute_result",
          "data": {
            "text/plain": [
              "{'TV': 0.4345519454275588,\n",
              " 'newspaper': 0.2523186330700948,\n",
              " 'radio': 0.3131294215023464}"
            ]
          },
          "metadata": {
            "tags": []
          },
          "execution_count": 51
        }
      ]
    },
    {
      "cell_type": "code",
      "metadata": {
        "colab": {
          "base_uri": "https://localhost:8080/"
        },
        "id": "J2wt8638DtD1",
        "outputId": "164be29a-4af8-469d-c9a3-4a183c5829a5"
      },
      "source": [
        "adstock_params"
      ],
      "execution_count": 54,
      "outputs": [
        {
          "output_type": "execute_result",
          "data": {
            "text/plain": [
              "{'TV': {'D': 0.5219698817388844, 'L': 8, 'P': 1.8077772427330077},\n",
              " 'newspaper': {'D': 0.5226936859434408, 'L': 8, 'P': 1.9961365079901714},\n",
              " 'radio': {'D': 0.5203741396406514, 'L': 8, 'P': 1.9744306259487039}}"
            ]
          },
          "metadata": {
            "tags": []
          },
          "execution_count": 54
        }
      ]
    },
    {
      "cell_type": "code",
      "metadata": {
        "colab": {
          "base_uri": "https://localhost:8080/"
        },
        "id": "Qkru8rmZEmb5",
        "outputId": "e6825989-103c-4c53-bd11-df335f7a3646"
      },
      "source": [
        "mc_pct2.values()"
      ],
      "execution_count": 58,
      "outputs": [
        {
          "output_type": "execute_result",
          "data": {
            "text/plain": [
              "dict_values([0.4345519454275588, 0.3131294215023464, 0.2523186330700948])"
            ]
          },
          "metadata": {
            "tags": []
          },
          "execution_count": 58
        }
      ]
    },
    {
      "cell_type": "code",
      "metadata": {
        "colab": {
          "base_uri": "https://localhost:8080/"
        },
        "id": "CSRa7pJtDtVZ",
        "outputId": "3fbf2e0d-b668-44a9-dda3-7267f4dc0479"
      },
      "source": [
        "contri = [i for i in mc_pct2.values()]\n",
        "contri"
      ],
      "execution_count": 59,
      "outputs": [
        {
          "output_type": "execute_result",
          "data": {
            "text/plain": [
              "[0.4345519454275588, 0.3131294215023464, 0.2523186330700948]"
            ]
          },
          "metadata": {
            "tags": []
          },
          "execution_count": 59
        }
      ]
    },
    {
      "cell_type": "code",
      "metadata": {
        "colab": {
          "base_uri": "https://localhost:8080/",
          "height": 350
        },
        "id": "P1_PQOgIEMog",
        "outputId": "6db1f94d-ec92-45d7-d0de-57b6add2ed6b"
      },
      "source": [
        "import numpy as np\n",
        "import matplotlib.pyplot as plt\n",
        " \n",
        "  \n",
        "# creating the dataset\n",
        "data = mc_pct2\n",
        "courses = list(data.keys())\n",
        "values = list(data.values())\n",
        "  \n",
        "fig = plt.figure(figsize = (10, 5))\n",
        " \n",
        "# creating the bar plot\n",
        "plt.bar(courses, values, color ='maroon',\n",
        "        width = 0.4)\n",
        " \n",
        "plt.xlabel(\"Media Variables\")\n",
        "plt.ylabel(\"Rate\")\n",
        "plt.title(\"Media Contribution\")\n",
        "plt.show()"
      ],
      "execution_count": 63,
      "outputs": [
        {
          "output_type": "display_data",
          "data": {
            "image/png": "[encoded data removed]",
            "text/plain": [
              "<Figure size 720x360 with 1 Axes>"
            ]
          },
          "metadata": {
            "tags": [],
            "needs_background": "light"
          }
        }
      ]
    },
    {
      "cell_type": "code",
      "metadata": {
        "id": "XWX2mqvXErGt"
      },
      "source": [
        ""
      ],
      "execution_count": null,
      "outputs": []
    }
  ]
}